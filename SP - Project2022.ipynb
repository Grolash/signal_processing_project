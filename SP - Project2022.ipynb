{
 "cells": [
  {
   "cell_type": "markdown",
   "metadata": {
    "pycharm": {
     "name": "#%% md\n"
    }
   },
   "source": [
    "# Signal Processing Project: real-time sound localisation"
   ]
  },
  {
   "cell_type": "markdown",
   "metadata": {
    "pycharm": {
     "name": "#%% md\n"
    }
   },
   "source": [
    "## 1 Offline system\n",
    "### 1.1 Data generation and dataset"
   ]
  },
  {
   "cell_type": "code",
   "execution_count": null,
   "metadata": {
    "pycharm": {
     "name": "#%%\n"
    }
   },
   "outputs": [],
   "source": [
    "import numpy as np\n",
    "import matplotlib.pyplot as plt\n",
    "\n",
    "def create_sine_wave(f, A, fs, N):\n",
    "    \n",
    "    # your code here #\n",
    "\n",
    "    return out\n",
    "\n",
    "# call and test your function here #\n",
    "fs =\n",
    "N = \n",
    "freq = \n",
    "amplitude =\n"
   ]
  },
  {
   "cell_type": "code",
   "execution_count": null,
   "metadata": {
    "pycharm": {
     "name": "#%%\n"
    }
   },
   "outputs": [],
   "source": [
    "from glob import glob\n",
    "import scipy.io.wavfile as wf\n",
    "\n",
    "def read_wavefile(path):\n",
    "\n",
    "    # your code here #\n",
    "\n",
    "    return out\n",
    "\n",
    "# call and test your function here #\n",
    "LocateClaps = \"path/to/LocateClaps/folder\"\n",
    "files = glob(f\"{LocateClaps}/*.wav\")\n"
   ]
  },
  {
   "cell_type": "markdown",
   "metadata": {
    "pycharm": {
     "name": "#%% md\n"
    }
   },
   "source": [
    "### 1.2 Buffering"
   ]
  },
  {
   "cell_type": "code",
   "execution_count": 1,
   "metadata": {
    "pycharm": {
     "name": "#%%\n"
    }
   },
   "outputs": [],
   "source": [
    "from collections import deque\n",
    "\n",
    "def create_ringbuffer(maxlen):\n",
    "    \n",
    "    # your code here #\n",
    "\n",
    "    return out\n",
    "\n",
    "# call and test your function here #\n",
    "stride = \n",
    "maxlen = \n",
    "\n",
    "# reading your signal as a stream:\n",
    "for i, sample in enumerate(your_signal):\n",
    "    your_buffer.append(sample)\n",
    "\n",
    "    # your code here #"
   ]
  },
  {
   "cell_type": "markdown",
   "metadata": {
    "pycharm": {
     "name": "#%% md\n"
    }
   },
   "source": [
    "### 1.3 Pre-processing\n",
    "#### 1.3.1 Normalisation"
   ]
  },
  {
   "cell_type": "code",
   "execution_count": null,
   "metadata": {
    "pycharm": {
     "name": "#%%\n"
    }
   },
   "outputs": [],
   "source": [
    "def normalise(s):\n",
    "    \n",
    "    # your code here #\n",
    "\n",
    "    return out\n",
    "\n",
    "# call and test your function here #"
   ]
  },
  {
   "cell_type": "markdown",
   "metadata": {
    "pycharm": {
     "name": "#%% md\n"
    }
   },
   "source": [
    "#### 1.3.2 Downsampling"
   ]
  },
  {
   "cell_type": "code",
   "execution_count": null,
   "metadata": {
    "pycharm": {
     "name": "#%%\n"
    }
   },
   "outputs": [],
   "source": [
    "## 1 - spectral analysis via spectrogram\n",
    "plt.specgram( , Fs= )\n",
    "plt.title(\"Spectrogram\")\n",
    "plt.show()\n",
    "\n",
    "## 2 - Anti-aliasing filter synthesis\n",
    "def create_filter_cheby(wp, ws, gpass, gstop, fs):\n",
    "\n",
    "    # your code here #\n",
    "\n",
    "    return B, A\n",
    "\n",
    "def create_filter_cauer(wp, ws, gpass, gstop, fs):\n",
    "\n",
    "    # your code here #\n",
    "\n",
    "    return B, A\n",
    "\n",
    "## 3 - Decimation\n",
    "def downsampling(sig, B, A, M):\n",
    "\n",
    "    # your code here #\n",
    "\n",
    "    return out\n",
    "\n",
    "\n",
    "# call and test your function here"
   ]
  },
  {
   "cell_type": "markdown",
   "metadata": {
    "pycharm": {
     "name": "#%% md\n"
    }
   },
   "source": [
    "### 1.4 Cross-correlation"
   ]
  },
  {
   "cell_type": "code",
   "execution_count": null,
   "metadata": {
    "pycharm": {
     "name": "#%%\n"
    }
   },
   "outputs": [],
   "source": [
    "## 1.4\n",
    "import scipy.signal as sc\n",
    "import numpy as np\n",
    "\n",
    "def fftxcorr(in1, in2):\n",
    "    \n",
    "    # your code here #\n",
    "\n",
    "    return out\n",
    "    \n",
    "# call and test your function here #\n",
    "\n",
    "xcorr_fftconv = sc.fftconvolve(your_signal, your_signal[::-1], 'full') # [::-1] flips the signal but you can also use np.flip()"
   ]
  },
  {
   "cell_type": "markdown",
   "metadata": {
    "pycharm": {
     "name": "#%% md\n"
    }
   },
   "source": [
    "### 1.5 Localisation\n",
    "#### 1.5.1 TDOA"
   ]
  },
  {
   "cell_type": "code",
   "execution_count": null,
   "metadata": {
    "pycharm": {
     "name": "#%%\n"
    }
   },
   "outputs": [],
   "source": [
    "def TDOA(xcorr):\n",
    "    \n",
    "    # your code here #\n",
    "\n",
    "    return out"
   ]
  },
  {
   "cell_type": "markdown",
   "metadata": {
    "pycharm": {
     "name": "#%% md\n"
    }
   },
   "source": [
    "#### 1.5.2 Equation system"
   ]
  },
  {
   "cell_type": "code",
   "execution_count": null,
   "metadata": {
    "pycharm": {
     "name": "#%%\n"
    }
   },
   "outputs": [],
   "source": [
    "from scipy.optimize import root\n",
    "\n",
    "# mic coordinates in meters\n",
    "MICS = [{'x': 0, 'y': 0.0487}, {'x': 0.0425, 'y': -0.025}, {'x': -0.0425, 'y': -0.025}] \n",
    "\n",
    "def equations(p, deltas):\n",
    "    v = 343\n",
    "    x, y = p\n",
    "    eq1 = v*deltas[0] - np.sqrt((MICS[0]['x'] - x)**2 + (MICS[0]['y'] - y)**2) + np.sqrt((MICS[1]['x'] - x)**2 + (MICS[1]['y'] - y)**2)\n",
    "    eq2 = v*deltas[1] - np.sqrt((MICS[0]['x'] - x)**2 + (MICS[0]['y'] - y)**2) + np.sqrt((MICS[2]['x'] - x)**2 + (MICS[2]['y'] - y)**2)\n",
    "    return (eq1, eq2)\n",
    "    \n",
    "def localize_sound(deltas):\n",
    "\n",
    "    sol = root(equations, [0, 0], (deltas), tol=10)\n",
    "    return sol.x\n",
    "\n",
    "def source_angle(coordinates):\n",
    "    \n",
    "    # your code here\n",
    "\n",
    "    return out\n",
    "\n",
    "# call and test your function here #"
   ]
  },
  {
   "cell_type": "markdown",
   "metadata": {
    "pycharm": {
     "name": "#%% md\n"
    }
   },
   "source": [
    "### 1.6 System accuracy and speed"
   ]
  },
  {
   "cell_type": "code",
   "execution_count": 2,
   "metadata": {
    "pycharm": {
     "name": "#%%\n"
    }
   },
   "outputs": [],
   "source": [
    "## 1.6.1\n",
    "def accuracy(pred_angle, gt_angle, threshold):\n",
    "    \n",
    "    # your code here #\n",
    "\n",
    "    return out\n",
    "\n",
    "## 1.6.2\n",
    "possible_angle = [0, 30, 60, 90, 120, 150, 180, 210, 240, 270, 300, 330]\n",
    "for angle in possible_angle:\n",
    "    for f in files:\n",
    "        if f'_{angle}.' in f:\n",
    "            mic = f.split('/')[-1].split('_')[0] #if '/' does not work, use \"\\\\\" (windows notation)\n",
    "            \n",
    "# call and test your function here #\n",
    "\n",
    "## 1.6.3\n",
    "from time import time_ns, sleep\n",
    "\n",
    "def func_example(a, b):\n",
    "    return a*b\n",
    "\n",
    "def time_delay(func, args):\n",
    "    start_time = time_ns()\n",
    "    out = func(*args)\n",
    "    end_time = time_ns()\n",
    "    print(f\"{func.__name__} in {end_time - start_time} ns\")\n",
    "    return out\n",
    "\n",
    "product = time_delay(func_example, [2, 10])\n",
    "\n",
    "# call and test your previous functions here #"
   ]
  },
  {
   "cell_type": "markdown",
   "metadata": {
    "pycharm": {
     "name": "#%% md\n"
    }
   },
   "source": [
    "## 2 Real-time localisation"
   ]
  },
  {
   "cell_type": "markdown",
   "metadata": {
    "pycharm": {
     "name": "#%% md\n"
    }
   },
   "source": [
    "### 2.1 Research one Raspberry Pi application"
   ]
  },
  {
   "cell_type": "markdown",
   "metadata": {
    "pycharm": {
     "name": "#%% md\n"
    }
   },
   "source": [
    "### 2.2 Data acquisition and processing"
   ]
  },
  {
   "cell_type": "code",
   "execution_count": null,
   "metadata": {
    "pycharm": {
     "name": "#%%\n"
    }
   },
   "outputs": [],
   "source": [
    "#### Callback \n",
    "import pyaudio\n",
    "\n",
    "RESPEAKER_CHANNELS = 8\n",
    "BUFFERS = []\n",
    "\n",
    "def callback(in_data, frame_count, time_info, flag):\n",
    "    global BUFFERS\n",
    "    data = np.frombuffer(in_data, dtype=np.int16)\n",
    "    BUFFERS[0].extend(data[0::RESPEAKER_CHANNELS])\n",
    "    BUFFERS[1].extend(data[2::RESPEAKER_CHANNELS])\n",
    "    BUFFERS[2].extend(data[4::RESPEAKER_CHANNELS])\n",
    "    return (None, pyaudio.paContinue)\n",
    "\n",
    "#### Stream management\n",
    "\n",
    "RATE = 44100\n",
    "RESPEAKER_WIDTH = 2\n",
    "CHUNK_SIZE = 2048\n",
    "\n",
    "def init_stream():\n",
    "    print(\"========= Stream opened =========\")\n",
    "    p = pyaudio.PyAudio()\n",
    "    for i in range(p.get_device_count()):\n",
    "        device_info = p.get_device_info_by_index(i)\n",
    "\n",
    "        if device_info['maxInputChannels'] == 8:\n",
    "            INDEX = i\n",
    "            break\n",
    "\n",
    "        if i == p.get_device_count()-1:\n",
    "            # Sound card not found\n",
    "            raise OSError('Invalid number of channels')\n",
    "\n",
    "    stream = p.open(rate=RATE, channels=RESPEAKER_CHANNELS, format=p.get_format_from_width(RESPEAKER_WIDTH), input=True, input_device_index=INDEX,\n",
    "                    frames_per_buffer=CHUNK_SIZE, stream_callback=callback)\n",
    "\n",
    "    return stream\n",
    "\n",
    "\n",
    "\n",
    "def close_stream(stream):\n",
    "    print(\"========= Stream closed =========\")\n",
    "    stream.stop_stream()\n",
    "    stream.close()\n",
    "\n",
    "#### Detection and visual feedback\n",
    "def detection(stream):\n",
    "    global BUFFERS, pixel_ring\n",
    "    \n",
    "    if stream.is_active():\n",
    "        print(\"========= Recording =========\")\n",
    "\n",
    "    while stream.is_active():\n",
    "        try:\n",
    "            if len(BUFFERS[0]) > CHUNK_SIZE:\n",
    "                st = time_ns()\n",
    "                deltas = [TDOA(fftxcorr(BUFFERS[0], BUFFERS[1])), TDOA(fftxcorr(BUFFERS[0], BUFFERS[2]))] \n",
    "\n",
    "                x, y = localize_sound(deltas)\n",
    "                hyp = np.sqrt(x**2+y**2)\n",
    "                \n",
    "                ang_cos = round(np.arccos(x/hyp)*180/np.pi, 2)\n",
    "                ang_sin = round(np.arcsin(y/hyp)*180/np.pi, 2)\n",
    "\n",
    "                if ang_cos == ang_sin:\n",
    "                    ang = ang_cos\n",
    "                else:\n",
    "                    ang = np.max([ang_cos, ang_sin])\n",
    "                    if ang_cos < 0 or ang_sin < 0:\n",
    "                        ang *= -1\n",
    "                ang *= -1\n",
    "\n",
    "                print((time_ns() - st)/1e9, ang)\n",
    "\n",
    "                print(np.max(BUFFERS, axis=-1))\n",
    "\n",
    "                if (np.max(BUFFERS, axis=-1) > 3000).any():\n",
    "                    pixel_ring.wakeup(ang)\n",
    "                else:\n",
    "                    pixel_ring.off()\n",
    "\n",
    "                sleep(0.5)\n",
    "\n",
    "        except KeyboardInterrupt:\n",
    "            print(\"========= Recording stopped =========\")\n",
    "            break\n",
    "\n",
    "#### Launch detection\n",
    "from pixel_ring.apa102_pixel_ring import PixelRing\n",
    "from gpiozero import LED\n",
    "\n",
    "\n",
    "USED_CHANNELS = 3\n",
    "\n",
    "\n",
    "power = LED(5)\n",
    "power.on()\n",
    "\n",
    "pixel_ring = PixelRing(pattern='soundloc')\n",
    "\n",
    "pixel_ring.set_brightness(10)\n",
    "\n",
    "for i in range(USED_CHANNELS):\n",
    "    BUFFERS.append(create_ringbuffer(3 * CHUNK_SIZE))\n",
    "    \n",
    "stream = init_stream()\n",
    "\n",
    "while True:\n",
    "    try:\n",
    "        detection(stream)\n",
    "        sleep(0.5)\n",
    "    except KeyboardInterrupt:\n",
    "        break\n",
    "\n",
    "close_stream(stream)\n",
    "\n",
    "power.off()"
   ]
  }
 ],
 "metadata": {
  "kernelspec": {
   "display_name": "Python 3.9.7 ('Thesis')",
   "language": "python",
   "name": "python3"
  },
  "language_info": {
   "codemirror_mode": {
    "name": "ipython",
    "version": 3
   },
   "file_extension": ".py",
   "mimetype": "text/x-python",
   "name": "python",
   "nbconvert_exporter": "python",
   "pygments_lexer": "ipython3",
   "version": "3.9.7"
  },
  "orig_nbformat": 4,
  "vscode": {
   "interpreter": {
    "hash": "713f5eb1ad580655572e952fe87652b4b3f714158118f1f6293bb85ab2aca7f9"
   }
  }
 },
 "nbformat": 4,
 "nbformat_minor": 2
}